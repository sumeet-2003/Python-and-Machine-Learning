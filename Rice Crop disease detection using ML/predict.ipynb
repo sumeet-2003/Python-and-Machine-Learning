{
 "cells": [
  {
   "cell_type": "code",
   "execution_count": null,
   "metadata": {},
   "outputs": [],
   "source": [
    "import tensorflow as tf\n",
    "from tensorflow.keras.models import load_model\n",
    "from tensorflow.keras.preprocessing import image\n",
    "import numpy as np\n",
    "from PIL import Image\n",
    "import requests\n",
    "from io import BytesIO\n",
    "\n",
    "import matplotlib.pyplot as plt\n",
    "import matplotlib.image as mpimg\n",
    "\n",
    "# Load the saved model\n",
    "loaded_model = load_model('D://RiceCrop_DS/model-1.h5')\n",
    "\n",
    "# Replace 'path_to_image.jpg' with the path to your actual image file\n",
    "\n",
    "#  D:\\Major\\sampleData\\lestcheckagain.jpg\n",
    "#  S://Collage Material ❗/ML workshop/images/BS.jpg\n",
    "\n",
    "img_path = 'D://Major/sampleData/lestcheckagain.jpg'\n",
    "\n",
    "# Load and preprocess the image\n",
    "img = image.load_img(img_path, target_size=(256, 256))  # Adjust the target size based on your model's input size\n",
    "img_array = image.img_to_array(img)\n",
    "img_array = np.expand_dims(img_array, axis=0)  # Add an extra dimension for batch size\n",
    "img_array /= 255.0  # Normalize the pixel values to be between 0 and 1\n",
    "\n",
    "# Make predictions\n",
    "predictions = loaded_model.predict(img_array)\n",
    "\n",
    "# Display the image\n",
    "# img.show()        # Uncomment this line to display the image\n",
    "\n",
    "# Display the predictions along with classes (replace class_names with your actual class names)\n",
    "class_names = [\"BrownSpot\", \"Healty\", \"Hispa\", \"LeafBlast\"]  \n",
    "\n",
    "# Extract the predicted class index\n",
    "predicted_class_index = np.argmax(predictions)\n",
    "\n",
    "# Load and display the image\n",
    "img = mpimg.imread(img_path)\n",
    "imgplot = plt.imshow(img)\n",
    "plt.axis('off')  # Turn off axis labels\n",
    "plt.show()\n",
    "\n",
    "# Get the predicted class name\n",
    "predicted_class_name = class_names[predicted_class_index]\n",
    "\n",
    "# Display the predictions\n",
    "print(\"Predicted Class:\", predicted_class_name)\n",
    "print(\"Predictions:\", predictions)"
   ]
  }
 ],
 "metadata": {
  "kernelspec": {
   "display_name": "Python 3",
   "language": "python",
   "name": "python3"
  },
  "language_info": {
   "name": "python",
   "version": "3.10.4"
  }
 },
 "nbformat": 4,
 "nbformat_minor": 2
}
